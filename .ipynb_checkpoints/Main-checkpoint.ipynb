{
 "cells": [
  {
   "cell_type": "code",
   "execution_count": 1,
   "metadata": {},
   "outputs": [],
   "source": [
    "import skimage.io as io\n",
    "import time\n",
    "import numpy as np\n",
    "import cv2\n",
    "from sklearn.naive_bayes import GaussianNB\n",
    "from sklearn.svm import SVC\n",
    "from ChainCodesFeatures import *\n",
    "from PolygonFeatures import * \n",
    "from WindowFeatures import *\n",
    "from windows import *"
   ]
  },
  {
   "cell_type": "code",
   "execution_count": 2,
   "metadata": {},
   "outputs": [],
   "source": [
    "def Feature_Extractor(img):\n",
    "    \n",
    "    st = time.time()\n",
    "    edged = cv2.Canny(img, 30, 200)\n",
    "    contours, hierarchy = cv2.findContours(edged, cv2.RETR_EXTERNAL, cv2.CHAIN_APPROX_NONE)\n",
    "    en = time.time()\n",
    "    print(\"Contours : \",(en-st)*1000,\"ms\")\n",
    "    \n",
    "    st = time.time()\n",
    "    windows, clusters, clusteredWindows = getClusteredWindows2(img,13,10)\n",
    "    en = time.time()\n",
    "    print(\"Kesho : \",(en-st)*1000,\"ms\")\n",
    "    \n",
    "    st = time.time()\n",
    "    F1,F2,F3,F4,F5,F7,F8,F9 = Chain_Codes_Feature_Extractor(img,contours,clusteredWindows)\n",
    "    en = time.time()\n",
    "    print(\"Ramzy : \",(en-st)*1000,\"ms\")\n",
    "    \n",
    "    st = time.time()\n",
    "    f10, f11, f12, f13, f14 = PolygonFeatures(contours)\n",
    "    en = time.time()\n",
    "    print(\"Ibrahim Lefta : \",(en-st)*1000,\"ms\")\n",
    "    \n",
    "    st = time.time()\n",
    "    Windows = list()\n",
    "    for i in range(clusteredWindows.shape[0]):\n",
    "        Windows  += list(WindowFeatures(clusteredWindows[i].astype(np.uint8)))\n",
    "    en = time.time()\n",
    "#     print(\"October : \",(en-st)*1000,\"ms\")\n",
    "    \n",
    "    Features = list(F1)+list(F2)+list(F3)+list(F4)+list(F5)+list(F7)+list(F8)+list(F9)+list(f10)+list(f11)+list(f12)+list(f13)+list(f14)+Windows\n",
    "    return Features\n",
    "    "
   ]
  },
  {
   "cell_type": "code",
   "execution_count": 3,
   "metadata": {},
   "outputs": [
    {
     "name": "stdout",
     "output_type": "stream",
     "text": [
      "Contours :  73.80819320678711 ms\n",
      "Kesho :  24536.83066368103 ms\n",
      "Ramzy :  1348.4184741973877 ms\n",
      "Ibrahim Lefta :  1606.7626476287842 ms\n",
      "October :  5.981922149658203 ms\n",
      "Contours :  49.89480972290039 ms\n",
      "Kesho :  25773.541688919067 ms\n",
      "Ramzy :  922.5480556488037 ms\n",
      "Ibrahim Lefta :  1096.0557460784912 ms\n",
      "October :  4.019737243652344 ms\n",
      "Contours :  61.829566955566406 ms\n",
      "Kesho :  26833.730936050415 ms\n",
      "Ramzy :  1311.5439414978027 ms\n",
      "Ibrahim Lefta :  1525.9490013122559 ms\n",
      "October :  4.950046539306641 ms\n",
      "Contours :  48.9048957824707 ms\n",
      "Kesho :  29629.263162612915 ms\n",
      "Ramzy :  1072.174310684204 ms\n",
      "Ibrahim Lefta :  1265.639305114746 ms\n",
      "October :  4.9839019775390625 ms\n"
     ]
    }
   ],
   "source": [
    "img = cv2.imread(\"TestCases/class1_0.png\", cv2.IMREAD_GRAYSCALE)\n",
    "Features_1 = Feature_Extractor(img)\n",
    "img = cv2.imread(\"TestCases/class0_0.png\", cv2.IMREAD_GRAYSCALE)\n",
    "Features_0 = Feature_Extractor(img)\n",
    "img = cv2.imread(\"TestCases/class1_1.png\", cv2.IMREAD_GRAYSCALE)\n",
    "Features_pred_1 = Feature_Extractor(img)\n",
    "img = cv2.imread(\"TestCases/class0_1.png\", cv2.IMREAD_GRAYSCALE)\n",
    "Features_pred_0 = Feature_Extractor(img)"
   ]
  },
  {
   "cell_type": "code",
   "execution_count": 4,
   "metadata": {},
   "outputs": [],
   "source": [
    "features_test = np.array([Features_0,Features_1])\n",
    "features_train = np.array([Features_pred_0,Features_pred_1])"
   ]
  },
  {
   "cell_type": "code",
   "execution_count": 5,
   "metadata": {},
   "outputs": [
    {
     "data": {
      "text/plain": [
       "GaussianNB(priors=None, var_smoothing=1e-09)"
      ]
     },
     "execution_count": 5,
     "metadata": {},
     "output_type": "execute_result"
    }
   ],
   "source": [
    "gnb = GaussianNB()\n",
    "gnb.fit(features_train,[0,1])"
   ]
  },
  {
   "cell_type": "code",
   "execution_count": 6,
   "metadata": {},
   "outputs": [
    {
     "name": "stdout",
     "output_type": "stream",
     "text": [
      "Accuracy :  100.0 %\n"
     ]
    }
   ],
   "source": [
    "result = gnb.predict(features_test)\n",
    "actual_label = [0,1]\n",
    "Acc = (actual_label==result).sum()/len(actual_label)\n",
    "print(\"Accuracy : \",Acc*100,\"%\")"
   ]
  },
  {
   "cell_type": "code",
   "execution_count": 3,
   "metadata": {},
   "outputs": [],
   "source": [
    "with open(\"forms.txt\") as h:\n",
    "    lines = h.readlines()[16:]"
   ]
  },
  {
   "cell_type": "code",
   "execution_count": 4,
   "metadata": {},
   "outputs": [],
   "source": [
    "freq = np.zeros(680, dtype=int)\n",
    "formWriter = {}\n",
    "for i in lines:\n",
    "    line = i.split(' ')\n",
    "    key = line[1]\n",
    "    if key in formWriter.keys():\n",
    "        formWriter[key].append(line[0])\n",
    "    else:\n",
    "        formWriter[key] = [line[0]]"
   ]
  },
  {
   "cell_type": "code",
   "execution_count": 5,
   "metadata": {},
   "outputs": [],
   "source": [
    "freq = [x for x, l in formWriter.items() if len(l)>2]"
   ]
  },
  {
   "cell_type": "code",
   "execution_count": 8,
   "metadata": {
    "scrolled": false
   },
   "outputs": [
    {
     "ename": "ValueError",
     "evalue": "could not broadcast input array from shape (190,13,13) into shape (13,13)",
     "output_type": "error",
     "traceback": [
      "\u001b[1;31m---------------------------------------------------------------------------\u001b[0m",
      "\u001b[1;31mValueError\u001b[0m                                Traceback (most recent call last)",
      "\u001b[1;32m<ipython-input-8-8c17f822da56>\u001b[0m in \u001b[0;36m<module>\u001b[1;34m\u001b[0m\n\u001b[0;32m     16\u001b[0m     \u001b[1;32mfor\u001b[0m \u001b[0mi\u001b[0m \u001b[1;32min\u001b[0m \u001b[0mtrain\u001b[0m\u001b[1;33m:\u001b[0m\u001b[1;33m\u001b[0m\u001b[0m\n\u001b[0;32m     17\u001b[0m         \u001b[0mimg\u001b[0m \u001b[1;33m=\u001b[0m \u001b[0mcv2\u001b[0m\u001b[1;33m.\u001b[0m\u001b[0mimread\u001b[0m\u001b[1;33m(\u001b[0m\u001b[1;34m\"forms/\"\u001b[0m\u001b[1;33m+\u001b[0m\u001b[0mi\u001b[0m\u001b[1;33m+\u001b[0m\u001b[1;34m'.png'\u001b[0m\u001b[1;33m,\u001b[0m \u001b[0mcv2\u001b[0m\u001b[1;33m.\u001b[0m\u001b[0mIMREAD_GRAYSCALE\u001b[0m\u001b[1;33m)\u001b[0m\u001b[1;33m\u001b[0m\u001b[0m\n\u001b[1;32m---> 18\u001b[1;33m         \u001b[0mf\u001b[0m \u001b[1;33m=\u001b[0m \u001b[0mFeature_Extractor\u001b[0m\u001b[1;33m(\u001b[0m\u001b[0mimg\u001b[0m\u001b[1;33m)\u001b[0m\u001b[1;33m\u001b[0m\u001b[0m\n\u001b[0m\u001b[0;32m     19\u001b[0m         \u001b[0mtrainFeatures\u001b[0m\u001b[1;33m.\u001b[0m\u001b[0mappend\u001b[0m\u001b[1;33m(\u001b[0m\u001b[0mf\u001b[0m\u001b[1;33m)\u001b[0m\u001b[1;33m\u001b[0m\u001b[0m\n\u001b[0;32m     20\u001b[0m     \u001b[0mgnb\u001b[0m \u001b[1;33m=\u001b[0m \u001b[0mSVC\u001b[0m\u001b[1;33m(\u001b[0m\u001b[1;33m)\u001b[0m\u001b[1;33m\u001b[0m\u001b[0m\n",
      "\u001b[1;32m<ipython-input-4-fe2d6de5f8a8>\u001b[0m in \u001b[0;36mFeature_Extractor\u001b[1;34m(img)\u001b[0m\n\u001b[0;32m      8\u001b[0m \u001b[1;33m\u001b[0m\u001b[0m\n\u001b[0;32m      9\u001b[0m     \u001b[0mst\u001b[0m \u001b[1;33m=\u001b[0m \u001b[0mtime\u001b[0m\u001b[1;33m.\u001b[0m\u001b[0mtime\u001b[0m\u001b[1;33m(\u001b[0m\u001b[1;33m)\u001b[0m\u001b[1;33m\u001b[0m\u001b[0m\n\u001b[1;32m---> 10\u001b[1;33m     \u001b[0mwindows\u001b[0m\u001b[1;33m,\u001b[0m \u001b[0mclusters\u001b[0m\u001b[1;33m,\u001b[0m \u001b[0mclusteredWindows\u001b[0m \u001b[1;33m=\u001b[0m \u001b[0mgetClusteredWindows2\u001b[0m\u001b[1;33m(\u001b[0m\u001b[0mimg\u001b[0m\u001b[1;33m,\u001b[0m\u001b[1;36m13\u001b[0m\u001b[1;33m,\u001b[0m\u001b[1;36m10\u001b[0m\u001b[1;33m)\u001b[0m\u001b[1;33m\u001b[0m\u001b[0m\n\u001b[0m\u001b[0;32m     11\u001b[0m     \u001b[0men\u001b[0m \u001b[1;33m=\u001b[0m \u001b[0mtime\u001b[0m\u001b[1;33m.\u001b[0m\u001b[0mtime\u001b[0m\u001b[1;33m(\u001b[0m\u001b[1;33m)\u001b[0m\u001b[1;33m\u001b[0m\u001b[0m\n\u001b[0;32m     12\u001b[0m \u001b[1;31m#     print(\"Kesho : \",(en-st)*1000,\"ms\")\u001b[0m\u001b[1;33m\u001b[0m\u001b[1;33m\u001b[0m\u001b[0m\n",
      "\u001b[1;32m~\\Desktop\\Pattern\\repo\\windows.py\u001b[0m in \u001b[0;36mgetClusteredWindows2\u001b[1;34m(img, windowL, clustersNum)\u001b[0m\n\u001b[0;32m     64\u001b[0m     \u001b[0mclusteredWindows\u001b[0m \u001b[1;33m=\u001b[0m \u001b[0mnp\u001b[0m\u001b[1;33m.\u001b[0m\u001b[0mzeros\u001b[0m\u001b[1;33m(\u001b[0m\u001b[1;33m[\u001b[0m\u001b[0mclustersNum\u001b[0m\u001b[1;33m,\u001b[0m \u001b[0mwindowL\u001b[0m\u001b[1;33m,\u001b[0m \u001b[0mwindowL\u001b[0m\u001b[1;33m]\u001b[0m\u001b[1;33m)\u001b[0m\u001b[1;33m\u001b[0m\u001b[0m\n\u001b[0;32m     65\u001b[0m     \u001b[1;32mfor\u001b[0m \u001b[0mi\u001b[0m \u001b[1;32min\u001b[0m \u001b[0mrange\u001b[0m\u001b[1;33m(\u001b[0m\u001b[0mclustersNum\u001b[0m\u001b[1;33m)\u001b[0m\u001b[1;33m:\u001b[0m\u001b[1;33m\u001b[0m\u001b[0m\n\u001b[1;32m---> 66\u001b[1;33m         \u001b[0mclusteredWindows\u001b[0m\u001b[1;33m[\u001b[0m\u001b[0mi\u001b[0m\u001b[1;33m]\u001b[0m \u001b[1;33m=\u001b[0m \u001b[0mwindows\u001b[0m\u001b[1;33m[\u001b[0m\u001b[0mclusters\u001b[0m\u001b[1;33m==\u001b[0m\u001b[0mi\u001b[0m\u001b[1;33m]\u001b[0m\u001b[1;33m[\u001b[0m\u001b[1;36m0\u001b[0m\u001b[1;33m]\u001b[0m\u001b[1;33m\u001b[0m\u001b[0m\n\u001b[0m\u001b[0;32m     67\u001b[0m     \u001b[1;32mreturn\u001b[0m \u001b[0mwindows\u001b[0m\u001b[1;33m,\u001b[0m \u001b[0mclusters\u001b[0m\u001b[1;33m,\u001b[0m \u001b[0mclusteredWindows\u001b[0m\u001b[1;33m\u001b[0m\u001b[0m\n\u001b[0;32m     68\u001b[0m \u001b[1;33m\u001b[0m\u001b[0m\n",
      "\u001b[1;31mValueError\u001b[0m: could not broadcast input array from shape (190,13,13) into shape (13,13)"
     ]
    }
   ],
   "source": [
    "acc = 0\n",
    "for i in range(5):\n",
    "    keys = np.random.randint(len(freq), size=3)\n",
    "    train = []\n",
    "    test = []\n",
    "    for k in keys:\n",
    "        forms = formWriter[freq[k]]\n",
    "        idxes = np.random.randint(len(forms), size=3)\n",
    "        train.append(forms[idxes[0]])\n",
    "        train.append(forms[idxes[1]])\n",
    "        test.append(forms[idxes[2]])\n",
    "    testWriter = np.random.randint(len(test))\n",
    "    testImg = test[testWriter]\n",
    "    \n",
    "    trainFeatures = []\n",
    "    for i in train:\n",
    "        img = cv2.imread(\"forms/\"+i+'.png', cv2.IMREAD_GRAYSCALE)\n",
    "        f = Feature_Extractor(img)\n",
    "        trainFeatures.append(f)\n",
    "    gnb = SVC()\n",
    "    gnb.fit(trainFeatures, [0, 0, 1, 1, 2, 2])\n",
    "    \n",
    "    img = cv2.imread(\"forms/\"+testImg+'.png', cv2.IMREAD_GRAYSCALE)\n",
    "    testFeatures = Feature_Extractor(img)                     \n",
    "    result = gnb.predict([testFeatures])\n",
    "    if result[0] == testWriter:\n",
    "        acc += 1\n",
    "    print(result, testWriter)\n"
   ]
  },
  {
   "cell_type": "code",
   "execution_count": 12,
   "metadata": {},
   "outputs": [
    {
     "data": {
      "text/plain": [
       "(array([0]), 1)"
      ]
     },
     "execution_count": 12,
     "metadata": {},
     "output_type": "execute_result"
    }
   ],
   "source": [
    "result, testWriter"
   ]
  },
  {
   "cell_type": "code",
   "execution_count": 17,
   "metadata": {},
   "outputs": [
    {
     "data": {
      "text/plain": [
       "3"
      ]
     },
     "execution_count": 17,
     "metadata": {},
     "output_type": "execute_result"
    }
   ],
   "source": [
    "acc"
   ]
  },
  {
   "cell_type": "code",
   "execution_count": 10,
   "metadata": {},
   "outputs": [
    {
     "data": {
      "text/plain": [
       "(1,)"
      ]
     },
     "execution_count": 10,
     "metadata": {},
     "output_type": "execute_result"
    }
   ],
   "source": [
    "result.shape"
   ]
  },
  {
   "cell_type": "code",
   "execution_count": 11,
   "metadata": {},
   "outputs": [
    {
     "name": "stdout",
     "output_type": "stream",
     "text": [
      "['e04-000', 'c04-008', 'f07-039b', 'f07-039b', 'n04-107', 'n04-100'] ['c04-013', 'f07-036', 'n04-100']\n"
     ]
    }
   ],
   "source": [
    "print(train, test)"
   ]
  },
  {
   "cell_type": "code",
   "execution_count": 14,
   "metadata": {},
   "outputs": [
    {
     "data": {
      "text/plain": [
       "1463"
      ]
     },
     "execution_count": 14,
     "metadata": {},
     "output_type": "execute_result"
    }
   ],
   "source": [
    "len(f)"
   ]
  },
  {
   "cell_type": "code",
   "execution_count": null,
   "metadata": {},
   "outputs": [],
   "source": []
  },
  {
   "cell_type": "code",
   "execution_count": null,
   "metadata": {
    "scrolled": true
   },
   "outputs": [],
   "source": [
    "acc = 0\n",
    "for itr in range(100):\n",
    "    keys = np.random.randint(len(freq), size=3)\n",
    "    train = []\n",
    "    test = []\n",
    "    for k in keys:\n",
    "        forms = formWriter[freq[k]]\n",
    "        forms = [freq[k]+'-'+'{:03d}'.format(s)+'.jpg' for s in range(len(forms))]\n",
    "#         print(forms)\n",
    "        idxes = np.random.randint(len(forms), size=3)\n",
    "        \n",
    "        train.append(forms[idxes[0]])\n",
    "        train.append(forms[idxes[1]])\n",
    "        test.append(forms[idxes[2]])\n",
    "    testWriter = np.random.randint(len(test))\n",
    "    testImg = test[testWriter]\n",
    "    \n",
    "    trainFeatures = []\n",
    "    for i in train:\n",
    "        img = cv2.imread('train/'+i, cv2.IMREAD_GRAYSCALE)\n",
    "        f = Feature_Extractor(img)\n",
    "        trainFeatures.append(f)\n",
    "    gnb = SVC()\n",
    "    gnb.fit(trainFeatures, [0, 0, 1, 1, 2, 2])\n",
    "    \n",
    "    img = cv2.imread(\"train/\"+testImg, cv2.IMREAD_GRAYSCALE)\n",
    "    testFeatures = Feature_Extractor(img)                     \n",
    "    result = gnb.predict([testFeatures])\n",
    "    if result[0] == testWriter:\n",
    "        acc += 1\n",
    "    print(result, testWriter)\n"
   ]
  },
  {
   "cell_type": "code",
   "execution_count": 25,
   "metadata": {},
   "outputs": [
    {
     "data": {
      "text/plain": [
       "88"
      ]
     },
     "execution_count": 25,
     "metadata": {},
     "output_type": "execute_result"
    }
   ],
   "source": [
    "acc"
   ]
  },
  {
   "cell_type": "code",
   "execution_count": null,
   "metadata": {},
   "outputs": [],
   "source": []
  }
 ],
 "metadata": {
  "kernelspec": {
   "display_name": "Python 3",
   "language": "python",
   "name": "python3"
  },
  "language_info": {
   "codemirror_mode": {
    "name": "ipython",
    "version": 3
   },
   "file_extension": ".py",
   "mimetype": "text/x-python",
   "name": "python",
   "nbconvert_exporter": "python",
   "pygments_lexer": "ipython3",
   "version": "3.7.0"
  }
 },
 "nbformat": 4,
 "nbformat_minor": 4
}
