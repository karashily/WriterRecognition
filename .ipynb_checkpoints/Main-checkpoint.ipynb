{
 "cells": [
  {
   "cell_type": "code",
   "execution_count": 1,
   "metadata": {},
   "outputs": [
    {
     "ename": "ModuleNotFoundError",
     "evalue": "No module named 'skimage'",
     "output_type": "error",
     "traceback": [
      "\u001b[1;31m---------------------------------------------------------------------------\u001b[0m",
      "\u001b[1;31mModuleNotFoundError\u001b[0m                       Traceback (most recent call last)",
      "\u001b[1;32m<ipython-input-1-238ad0b353e3>\u001b[0m in \u001b[0;36m<module>\u001b[1;34m\u001b[0m\n\u001b[1;32m----> 1\u001b[1;33m \u001b[1;32mimport\u001b[0m \u001b[0mskimage\u001b[0m\u001b[1;33m.\u001b[0m\u001b[0mio\u001b[0m \u001b[1;32mas\u001b[0m \u001b[0mio\u001b[0m\u001b[1;33m\u001b[0m\u001b[1;33m\u001b[0m\u001b[0m\n\u001b[0m\u001b[0;32m      2\u001b[0m \u001b[1;32mimport\u001b[0m \u001b[0mtime\u001b[0m\u001b[1;33m\u001b[0m\u001b[1;33m\u001b[0m\u001b[0m\n\u001b[0;32m      3\u001b[0m \u001b[1;32mimport\u001b[0m \u001b[0mnumpy\u001b[0m \u001b[1;32mas\u001b[0m \u001b[0mnp\u001b[0m\u001b[1;33m\u001b[0m\u001b[1;33m\u001b[0m\u001b[0m\n\u001b[0;32m      4\u001b[0m \u001b[1;32mimport\u001b[0m \u001b[0mcv2\u001b[0m\u001b[1;33m\u001b[0m\u001b[1;33m\u001b[0m\u001b[0m\n\u001b[0;32m      5\u001b[0m \u001b[1;32mfrom\u001b[0m \u001b[0msklearn\u001b[0m\u001b[1;33m.\u001b[0m\u001b[0mnaive_bayes\u001b[0m \u001b[1;32mimport\u001b[0m \u001b[0mGaussianNB\u001b[0m\u001b[1;33m\u001b[0m\u001b[1;33m\u001b[0m\u001b[0m\n",
      "\u001b[1;31mModuleNotFoundError\u001b[0m: No module named 'skimage'"
     ]
    }
   ],
   "source": [
    "import skimage.io as io\n",
    "import time\n",
    "import numpy as np\n",
    "import cv2\n",
    "from sklearn.naive_bayes import GaussianNB\n",
    "from ChainCodesFeatures import *\n",
    "from PolygonFeatures import * \n",
    "from WindowFeatures import *\n",
    "from windows import *"
   ]
  },
  {
   "cell_type": "code",
   "execution_count": 7,
   "metadata": {},
   "outputs": [],
   "source": [
    "def Feature_Extractor(img):\n",
    "    st = time.time()\n",
    "    edged = cv2.Canny(img, 30, 200)\n",
    "    contours, hierarchy = cv2.findContours(edged, cv2.RETR_EXTERNAL, cv2.CHAIN_APPROX_NONE)\n",
    "    en = time.time()\n",
    "    print(\"Contours : \",(en-st)*1000,\"ms\")\n",
    "    \n",
    "    st = time.time()\n",
    "    windows, clusters, clusteredWindows = getClusteredWindows(img,13,10)\n",
    "    en = time.time()\n",
    "    print(\"Kesho : \",(en-st)*1000,\"ms\")\n",
    "    \n",
    "    st = time.time()\n",
    "    F1,F2,F3,F4,F5,F7,F8,F9 = Chain_Codes_Feature_Extractor(img,contours,clusteredWindows)\n",
    "    en = time.time()\n",
    "    print(\"Ramzy : \",(en-st)*1000,\"ms\")\n",
    "    \n",
    "    st = time.time()\n",
    "    f10, f11, f12, f13, f14 = PolygonFeatures(contours)\n",
    "    en = time.time()\n",
    "    print(\"Ibrahim Lefta : \",(en-st)*1000,\"ms\")\n",
    "    \n",
    "    #st = time.time()\n",
    "    #Windows = list()\n",
    "    #for i in range(clusteredWindows.shape[0]):\n",
    "    #    Windows  += list(WindowFeatures(clusteredWindows[i].astype(np.uint8)))\n",
    "    #en = time.time()\n",
    "    #print(\"October : \",(en-st)*1000,\"ms\")\n",
    "    \n",
    "    Features = list(F1)+list(F2)+list(F3)+list(F4)+list(F5)+list(F7)+list(F8)+list(F9)+list(f10)+list(f11)+list(f12)+list(f13)+list(f14)#+Windows\n",
    "    return Features\n",
    "    "
   ]
  },
  {
   "cell_type": "code",
   "execution_count": 9,
   "metadata": {},
   "outputs": [
    {
     "name": "stdout",
     "output_type": "stream",
     "text": [
      "Contours :  35.027265548706055 ms\n",
      "Kesho :  15630.14030456543 ms\n",
      "Ramzy :  878.8464069366455 ms\n",
      "Ibrahim Lefta :  1152.7671813964844 ms\n",
      "Contours :  33.28227996826172 ms\n",
      "Kesho :  16300.696611404419 ms\n",
      "Ramzy :  615.5388355255127 ms\n",
      "Ibrahim Lefta :  722.4376201629639 ms\n",
      "Contours :  36.24463081359863 ms\n",
      "Kesho :  15997.795104980469 ms\n",
      "Ramzy :  879.657506942749 ms\n",
      "Ibrahim Lefta :  1095.5440998077393 ms\n",
      "Contours :  32.036542892456055 ms\n",
      "Kesho :  18324.174880981445 ms\n",
      "Ramzy :  684.3173503875732 ms\n",
      "Ibrahim Lefta :  833.5397243499756 ms\n"
     ]
    }
   ],
   "source": [
    "img = cv2.imread(\"TestCases/class1_0.png\", cv2.IMREAD_GRAYSCALE)\n",
    "Features_1 = Feature_Extractor(img)\n",
    "img = cv2.imread(\"TestCases/class0_0.png\", cv2.IMREAD_GRAYSCALE)\n",
    "Features_0 = Feature_Extractor(img)\n",
    "img = cv2.imread(\"TestCases/class1_1.png\", cv2.IMREAD_GRAYSCALE)\n",
    "Features_pred_1 = Feature_Extractor(img)\n",
    "img = cv2.imread(\"TestCases/class0_1.png\", cv2.IMREAD_GRAYSCALE)\n",
    "Features_pred_0 = Feature_Extractor(img)"
   ]
  },
  {
   "cell_type": "code",
   "execution_count": 16,
   "metadata": {},
   "outputs": [],
   "source": [
    "features_test = np.array([Features_0,Features_1])\n",
    "features_train = np.array([Features_pred_0,Features_pred_1])"
   ]
  },
  {
   "cell_type": "code",
   "execution_count": 17,
   "metadata": {},
   "outputs": [
    {
     "data": {
      "text/plain": [
       "GaussianNB()"
      ]
     },
     "execution_count": 17,
     "metadata": {},
     "output_type": "execute_result"
    }
   ],
   "source": [
    "gnb = GaussianNB()\n",
    "gnb.fit(features_train,[0,1])"
   ]
  },
  {
   "cell_type": "code",
   "execution_count": 21,
   "metadata": {},
   "outputs": [
    {
     "name": "stdout",
     "output_type": "stream",
     "text": [
      "Accuracy :  100.0 %\n"
     ]
    }
   ],
   "source": [
    "result = gnb.predict(features_test)\n",
    "actual_label = [0,1]\n",
    "Acc = (actual_label==result).sum()/len(actual_label)\n",
    "print(\"Accuracy : \",Acc*100,\"%\")"
   ]
  },
  {
   "cell_type": "code",
   "execution_count": null,
   "metadata": {},
   "outputs": [],
   "source": []
  },
  {
   "cell_type": "code",
   "execution_count": null,
   "metadata": {},
   "outputs": [],
   "source": []
  },
  {
   "cell_type": "code",
   "execution_count": null,
   "metadata": {},
   "outputs": [],
   "source": []
  },
  {
   "cell_type": "code",
   "execution_count": null,
   "metadata": {},
   "outputs": [],
   "source": []
  },
  {
   "cell_type": "code",
   "execution_count": null,
   "metadata": {},
   "outputs": [],
   "source": []
  },
  {
   "cell_type": "code",
   "execution_count": null,
   "metadata": {},
   "outputs": [],
   "source": []
  },
  {
   "cell_type": "code",
   "execution_count": null,
   "metadata": {},
   "outputs": [],
   "source": []
  },
  {
   "cell_type": "code",
   "execution_count": null,
   "metadata": {},
   "outputs": [],
   "source": []
  },
  {
   "cell_type": "code",
   "execution_count": null,
   "metadata": {},
   "outputs": [],
   "source": []
  },
  {
   "cell_type": "code",
   "execution_count": null,
   "metadata": {},
   "outputs": [],
   "source": []
  },
  {
   "cell_type": "code",
   "execution_count": null,
   "metadata": {},
   "outputs": [],
   "source": []
  },
  {
   "cell_type": "code",
   "execution_count": null,
   "metadata": {},
   "outputs": [],
   "source": []
  },
  {
   "cell_type": "code",
   "execution_count": null,
   "metadata": {},
   "outputs": [],
   "source": []
  }
 ],
 "metadata": {
  "kernelspec": {
   "display_name": "Python 3",
   "language": "python",
   "name": "python3"
  },
  "language_info": {
   "codemirror_mode": {
    "name": "ipython",
    "version": 3
   },
   "file_extension": ".py",
   "mimetype": "text/x-python",
   "name": "python",
   "nbconvert_exporter": "python",
   "pygments_lexer": "ipython3",
   "version": "3.7.9"
  }
 },
 "nbformat": 4,
 "nbformat_minor": 4
}
