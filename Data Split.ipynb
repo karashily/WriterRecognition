{
 "cells": [
  {
   "cell_type": "code",
   "execution_count": 1,
   "metadata": {},
   "outputs": [],
   "source": [
    "import cv2\n",
    "import matplotlib.pyplot as plt\n",
    "import skimage\n",
    "import itertools\n",
    "import numpy as np\n",
    "import os\n",
    "from skimage import io"
   ]
  },
  {
   "cell_type": "code",
   "execution_count": 2,
   "metadata": {},
   "outputs": [],
   "source": [
    "with open(\"forms.txt\") as h:\n",
    "    lines = h.readlines()[16:]"
   ]
  },
  {
   "cell_type": "code",
   "execution_count": 3,
   "metadata": {},
   "outputs": [],
   "source": [
    "freq = np.zeros(680, dtype=int)\n",
    "formWriter = {}\n",
    "for i in lines:\n",
    "    line = i.split(' ')\n",
    "    key = line[1]\n",
    "    if key in formWriter.keys():\n",
    "        formWriter[key].append(line[0])\n",
    "    else:\n",
    "        formWriter[key] = [line[0]]"
   ]
  },
  {
   "cell_type": "code",
   "execution_count": 4,
   "metadata": {},
   "outputs": [],
   "source": [
    "freq_2 = [x for x, l in formWriter.items() if len(l)==2]\n",
    "freq_3 = [x for x, l in formWriter.items() if len(l)>2]"
   ]
  },
  {
   "cell_type": "code",
   "execution_count": 46,
   "metadata": {},
   "outputs": [
    {
     "name": "stdout",
     "output_type": "stream",
     "text": [
      "1\n",
      "2\n",
      "3\n",
      "4\n",
      "5\n",
      "6\n",
      "7\n",
      "8\n",
      "9\n",
      "10\n",
      "11\n",
      "12\n",
      "13\n",
      "14\n",
      "15\n",
      "16\n",
      "17\n",
      "18\n",
      "19\n",
      "20\n",
      "21\n",
      "22\n",
      "23\n",
      "24\n",
      "25\n",
      "26\n",
      "27\n",
      "28\n",
      "29\n",
      "30\n",
      "31\n",
      "32\n",
      "33\n",
      "34\n",
      "35\n",
      "36\n",
      "37\n",
      "38\n",
      "39\n",
      "40\n",
      "41\n",
      "42\n",
      "43\n",
      "44\n",
      "45\n",
      "46\n",
      "47\n",
      "48\n",
      "49\n",
      "50\n",
      "51\n",
      "52\n",
      "53\n",
      "54\n",
      "55\n",
      "56\n",
      "57\n",
      "58\n",
      "59\n",
      "60\n",
      "61\n",
      "62\n",
      "63\n",
      "64\n",
      "65\n",
      "66\n",
      "67\n",
      "68\n",
      "69\n",
      "70\n",
      "71\n"
     ]
    }
   ],
   "source": [
    "n = 0\n",
    "j = 0 \n",
    "correct =[]\n",
    "for i in range(0,len(freq_2),2):\n",
    "    #Get Two Writer with only 2 images each \n",
    "    test_1 = formWriter[freq_2[i]]\n",
    "    test_2 = formWriter[freq_2[i+1]]\n",
    "    os.mkdir(\"TestData/\"+str(n))\n",
    "    \n",
    "    os.mkdir(\"TestData/\"+str(n)+\"/1\")\n",
    "    img = io.imread(\"forms/\"+test_1[0]+\".png\")\n",
    "    io.imsave(\"TestData/\"+str(n)+\"/1/\"+'1.png',img)\n",
    "    img = io.imread(\"forms/\"+test_1[1]+\".png\")\n",
    "    io.imsave(\"TestData/\"+str(n)+\"/1/\"+'2.png',img)\n",
    "    \n",
    "    os.mkdir(\"TestData/\"+str(n)+\"/2\")\n",
    "    img = io.imread(\"forms/\"+test_2[0]+\".png\")\n",
    "    io.imsave(\"TestData/\"+str(n)+\"/2/\"+'1.png',img)\n",
    "    img = io.imread(\"forms/\"+test_2[1]+\".png\")\n",
    "    io.imsave(\"TestData/\"+str(n)+\"/2/\"+'2.png',img)\n",
    "    \n",
    "    #Get 3 random image from Writer with more than 2 images\n",
    "    test_3 = formWriter[freq_3[j]]\n",
    "    keys = np.random.randint(len(test_3), size=3)\n",
    "    \n",
    "    os.mkdir(\"TestData/\"+str(n)+\"/3\")\n",
    "    img = io.imread(\"forms/\"+test_3[keys[0]]+\".png\")\n",
    "    io.imsave(\"TestData/\"+str(n)+\"/3/\"+'1.png',img)\n",
    "    img = io.imread(\"forms/\"+test_3[keys[1]]+\".png\")\n",
    "    io.imsave(\"TestData/\"+str(n)+\"/3/\"+'2.png',img)\n",
    "    \n",
    "    \n",
    "    img = io.imread(\"forms/\"+test_3[keys[2]]+\".png\")\n",
    "    io.imsave(\"TestData/\"+str(n)+\"/test.png\",img)\n",
    "    \n",
    "    correct.append(3)\n",
    "    \n",
    "    n+=1\n",
    "    j+=1\n",
    "    print(n)"
   ]
  },
  {
   "cell_type": "code",
   "execution_count": 7,
   "metadata": {},
   "outputs": [
    {
     "name": "stdout",
     "output_type": "stream",
     "text": [
      "3\n",
      "72\n",
      "2\n",
      "73\n",
      "3\n",
      "74\n",
      "3\n",
      "75\n",
      "3\n",
      "76\n",
      "2\n",
      "77\n",
      "2\n",
      "78\n",
      "1\n",
      "79\n",
      "1\n",
      "80\n",
      "3\n",
      "81\n",
      "1\n",
      "82\n",
      "1\n",
      "83\n"
     ]
    },
    {
     "ename": "IndexError",
     "evalue": "list index out of range",
     "output_type": "error",
     "traceback": [
      "\u001b[0;31m---------------------------------------------------------------------------\u001b[0m",
      "\u001b[0;31mIndexError\u001b[0m                                Traceback (most recent call last)",
      "\u001b[0;32m<ipython-input-7-8509c2c97a93>\u001b[0m in \u001b[0;36m<module>\u001b[0;34m\u001b[0m\n\u001b[1;32m     34\u001b[0m \u001b[0;34m\u001b[0m\u001b[0m\n\u001b[1;32m     35\u001b[0m     \u001b[0;32mif\u001b[0m\u001b[0;34m(\u001b[0m\u001b[0mtest_rand\u001b[0m\u001b[0;34m==\u001b[0m\u001b[0;36m0\u001b[0m\u001b[0;34m)\u001b[0m\u001b[0;34m:\u001b[0m\u001b[0;34m\u001b[0m\u001b[0;34m\u001b[0m\u001b[0m\n\u001b[0;32m---> 36\u001b[0;31m         \u001b[0mimg\u001b[0m \u001b[0;34m=\u001b[0m \u001b[0mio\u001b[0m\u001b[0;34m.\u001b[0m\u001b[0mimread\u001b[0m\u001b[0;34m(\u001b[0m\u001b[0;34m\"forms/\"\u001b[0m\u001b[0;34m+\u001b[0m\u001b[0mtest_3\u001b[0m\u001b[0;34m[\u001b[0m\u001b[0mkeys_1\u001b[0m\u001b[0;34m[\u001b[0m\u001b[0;36m2\u001b[0m\u001b[0;34m]\u001b[0m\u001b[0;34m]\u001b[0m\u001b[0;34m+\u001b[0m\u001b[0;34m\".png\"\u001b[0m\u001b[0;34m)\u001b[0m\u001b[0;34m\u001b[0m\u001b[0;34m\u001b[0m\u001b[0m\n\u001b[0m\u001b[1;32m     37\u001b[0m         \u001b[0mcorrect\u001b[0m\u001b[0;34m.\u001b[0m\u001b[0mappend\u001b[0m\u001b[0;34m(\u001b[0m\u001b[0;36m1\u001b[0m\u001b[0;34m)\u001b[0m\u001b[0;34m\u001b[0m\u001b[0;34m\u001b[0m\u001b[0m\n\u001b[1;32m     38\u001b[0m \u001b[0;34m\u001b[0m\u001b[0m\n",
      "\u001b[0;31mIndexError\u001b[0m: list index out of range"
     ]
    }
   ],
   "source": [
    "correct = []\n",
    "n=71\n",
    "for k in range(100,len(freq_3)-3,3):\n",
    "    test_1 = formWriter[freq_3[k]]\n",
    "    test_2 = formWriter[freq_3[k+1]]\n",
    "    os.mkdir(\"TestData/\"+str(n))\n",
    "    \n",
    "    \n",
    "    keys_1 = np.random.randint(len(test_1), size=3)\n",
    "    os.mkdir(\"TestData/\"+str(n)+\"/1\")\n",
    "    img = io.imread(\"forms/\"+test_1[keys_1[0]]+\".png\")\n",
    "    io.imsave(\"TestData/\"+str(n)+\"/1/\"+'1.png',img)\n",
    "    img = io.imread(\"forms/\"+test_1[keys_1[1]]+\".png\")\n",
    "    io.imsave(\"TestData/\"+str(n)+\"/1/\"+'2.png',img)\n",
    "    \n",
    "    keys_2 = np.random.randint(len(test_2), size=3)\n",
    "    os.mkdir(\"TestData/\"+str(n)+\"/2\")\n",
    "    img = io.imread(\"forms/\"+test_2[keys_2[0]]+\".png\")\n",
    "    io.imsave(\"TestData/\"+str(n)+\"/2/\"+'1.png',img)\n",
    "    img = io.imread(\"forms/\"+test_2[keys_2[1]]+\".png\")\n",
    "    io.imsave(\"TestData/\"+str(n)+\"/2/\"+'2.png',img)\n",
    "    \n",
    "    #Get 3 random image from Writer with more than 2 images\n",
    "    test_3 = formWriter[freq_3[k+2]]\n",
    "    keys_3 = np.random.randint(len(test_3), size=3)\n",
    "    \n",
    "    os.mkdir(\"TestData/\"+str(n)+\"/3\")\n",
    "    img = io.imread(\"forms/\"+test_3[keys_3[0]]+\".png\")\n",
    "    io.imsave(\"TestData/\"+str(n)+\"/3/\"+'1.png',img)\n",
    "    img = io.imread(\"forms/\"+test_3[keys_3[1]]+\".png\")\n",
    "    io.imsave(\"TestData/\"+str(n)+\"/3/\"+'2.png',img)\n",
    "    \n",
    "    test_rand = np.random.randint(3, size=1)[0]\n",
    "    \n",
    "    if(test_rand==0):\n",
    "        img = io.imread(\"forms/\"+test_3[keys_1[2]]+\".png\")\n",
    "        correct.append(1)\n",
    "        \n",
    "    if(test_rand==1):\n",
    "        img = io.imread(\"forms/\"+test_3[keys_2[2]]+\".png\")\n",
    "        correct.append(2)\n",
    "    if(test_rand==2):\n",
    "        img = io.imread(\"forms/\"+test_3[keys_3[2]]+\".png\")\n",
    "        correct.append(3)\n",
    "    io.imsave(\"TestData/\"+str(n)+\"/test.png\",img)\n",
    "    n+=1\n",
    "    print(correct[-1])\n",
    "    print(n)\n",
    "    "
   ]
  },
  {
   "cell_type": "code",
   "execution_count": 75,
   "metadata": {},
   "outputs": [],
   "source": [
    "for i in range(71,100):\n",
    "    os.rename('TestData/'+str(i),\"TestData/0\"+str(i))"
   ]
  },
  {
   "cell_type": "code",
   "execution_count": null,
   "metadata": {},
   "outputs": [],
   "source": []
  },
  {
   "cell_type": "code",
   "execution_count": 73,
   "metadata": {},
   "outputs": [],
   "source": [
    "f = open(\"correct.txt\", \"w\")\n",
    "for c in correct:\n",
    "    f.write(str(c)+'\\n')\n",
    "f.close()"
   ]
  },
  {
   "cell_type": "code",
   "execution_count": 74,
   "metadata": {},
   "outputs": [
    {
     "name": "stdout",
     "output_type": "stream",
     "text": [
      "100\n"
     ]
    }
   ],
   "source": [
    "print(len(correct))"
   ]
  },
  {
   "cell_type": "code",
   "execution_count": null,
   "metadata": {},
   "outputs": [],
   "source": []
  },
  {
   "cell_type": "code",
   "execution_count": null,
   "metadata": {},
   "outputs": [],
   "source": []
  }
 ],
 "metadata": {
  "kernelspec": {
   "display_name": "Python 3",
   "language": "python",
   "name": "python3"
  },
  "language_info": {
   "codemirror_mode": {
    "name": "ipython",
    "version": 3
   },
   "file_extension": ".py",
   "mimetype": "text/x-python",
   "name": "python",
   "nbconvert_exporter": "python",
   "pygments_lexer": "ipython3",
   "version": "3.7.6"
  }
 },
 "nbformat": 4,
 "nbformat_minor": 4
}
