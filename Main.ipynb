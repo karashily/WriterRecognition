{
 "cells": [
  {
   "cell_type": "code",
   "execution_count": 1,
   "metadata": {},
   "outputs": [],
   "source": [
    "import skimage.io as io\n",
    "import time\n",
    "import numpy as np\n",
    "import cv2\n",
    "from sklearn.naive_bayes import GaussianNB\n",
    "from sklearn.svm import SVC\n",
    "from ChainCodesFeatures import *\n",
    "from PolygonFeatures import * \n",
    "from WindowFeatures import *\n",
    "from windows import *"
   ]
  },
  {
   "cell_type": "code",
   "execution_count": 16,
   "metadata": {},
   "outputs": [],
   "source": [
    "def Feature_Extractor(img):\n",
    "    \n",
    "    st = time.time()\n",
    "    edged = cv2.Canny(img, 30, 200)\n",
    "    contours, hierarchy = cv2.findContours(edged, cv2.RETR_EXTERNAL, cv2.CHAIN_APPROX_NONE)\n",
    "    en = time.time()\n",
    "#     print(\"Contours : \",(en-st)*1000,\"ms\")\n",
    "    \n",
    "    st = time.time()\n",
    "    windows, clusters, clusteredWindows = getClusteredWindows2(img,13,10)\n",
    "    en = time.time()\n",
    "#     print(\"Kesho : \",(en-st)*1000,\"ms\")\n",
    "    \n",
    "    st = time.time()\n",
    "    F1,F2,F3,F4,F5,F7,F8,F9 = Chain_Codes_Feature_Extractor(img,contours,clusteredWindows)\n",
    "    en = time.time()\n",
    "#     print(\"Ramzy : \",(en-st)*1000,\"ms\")\n",
    "    \n",
    "    st = time.time()\n",
    "    f10, f11, f12, f13, f14 = PolygonFeatures(contours)\n",
    "    en = time.time()\n",
    "#     print(\"Ibrahim Lefta : \",(en-st)*1000,\"ms\")\n",
    "    \n",
    "    st = time.time()\n",
    "    Windows = list()\n",
    "    for i in range(clusteredWindows.shape[0]):\n",
    "        Windows  += list(WindowFeatures(clusteredWindows[i].astype(np.uint8)))\n",
    "        \n",
    "    en = time.time()\n",
    "#     print(\"October : \",(en-st)*1000,\"ms\")\n",
    "    \n",
    "    Features = list(F1)+list(F2)+list(F3)+list(F4)+list(F5)+list(F7)+list(F8)+list(F9)+list(f10)+list(f11)+list(f12)+list(f13)+list(f14)+Windows\n",
    "    return Features\n",
    "    "
   ]
  },
  {
   "cell_type": "code",
   "execution_count": 3,
   "metadata": {
    "scrolled": true
   },
   "outputs": [],
   "source": [
    "img = cv2.imread(\"TestCases/class1_0.png\", cv2.IMREAD_GRAYSCALE)\n",
    "Features_1 = Feature_Extractor(img)\n",
    "img = cv2.imread(\"TestCases/class0_0.png\", cv2.IMREAD_GRAYSCALE)\n",
    "Features_0 = Feature_Extractor(img)\n",
    "img = cv2.imread(\"TestCases/class1_1.png\", cv2.IMREAD_GRAYSCALE)\n",
    "Features_pred_1 = Feature_Extractor(img)\n",
    "img = cv2.imread(\"TestCases/class0_1.png\", cv2.IMREAD_GRAYSCALE)\n",
    "Features_pred_0 = Feature_Extractor(img)"
   ]
  },
  {
   "cell_type": "code",
   "execution_count": 4,
   "metadata": {},
   "outputs": [],
   "source": [
    "features_test = np.array([Features_0,Features_1])\n",
    "features_train = np.array([Features_pred_0,Features_pred_1])"
   ]
  },
  {
   "cell_type": "code",
   "execution_count": 5,
   "metadata": {},
   "outputs": [
    {
     "data": {
      "text/plain": [
       "GaussianNB(priors=None, var_smoothing=1e-09)"
      ]
     },
     "execution_count": 5,
     "metadata": {},
     "output_type": "execute_result"
    }
   ],
   "source": [
    "gnb = GaussianNB()\n",
    "gnb.fit(features_train,[0,1])"
   ]
  },
  {
   "cell_type": "code",
   "execution_count": 6,
   "metadata": {},
   "outputs": [
    {
     "name": "stdout",
     "output_type": "stream",
     "text": [
      "Accuracy :  100.0 %\n"
     ]
    }
   ],
   "source": [
    "result = gnb.predict(features_test)\n",
    "actual_label = [0,1]\n",
    "Acc = (actual_label==result).sum()/len(actual_label)\n",
    "print(\"Accuracy : \",Acc*100,\"%\")"
   ]
  },
  {
   "cell_type": "code",
   "execution_count": 17,
   "metadata": {},
   "outputs": [],
   "source": [
    "with open(\"forms.txt\") as h:\n",
    "    lines = h.readlines()[16:]"
   ]
  },
  {
   "cell_type": "code",
   "execution_count": 18,
   "metadata": {},
   "outputs": [],
   "source": [
    "freq = np.zeros(680, dtype=int)\n",
    "formWriter = {}\n",
    "for i in lines:\n",
    "    line = i.split(' ')\n",
    "    key = line[1]\n",
    "    if key in formWriter.keys():\n",
    "        formWriter[key].append(line[0])\n",
    "    else:\n",
    "        formWriter[key] = [line[0]]"
   ]
  },
  {
   "cell_type": "code",
   "execution_count": 19,
   "metadata": {},
   "outputs": [],
   "source": [
    "freq = [x for x, l in formWriter.items() if len(l)>2]"
   ]
  },
  {
   "cell_type": "code",
   "execution_count": 20,
   "metadata": {
    "scrolled": true
   },
   "outputs": [
    {
     "name": "stdout",
     "output_type": "stream",
     "text": [
      "1 1 Accuracy :  100.0 %\n",
      "[0] 0\n",
      "2 2 Accuracy :  100.0 %\n",
      "[2] 2\n",
      "3 2 Accuracy :  66.66666666666667 %\n",
      "[2] 0\n",
      "4 3 Accuracy :  75.0 %\n",
      "[0] 0\n",
      "5 4 Accuracy :  80.0 %\n",
      "[2] 2\n",
      "6 5 Accuracy :  83.33333333333333 %\n",
      "[0] 0\n",
      "7 6 Accuracy :  85.71428571428571 %\n",
      "[0] 0\n",
      "8 7 Accuracy :  87.5 %\n",
      "[0] 0\n",
      "9 8 Accuracy :  88.88888888888889 %\n",
      "[2] 2\n",
      "10 9 Accuracy :  90.0 %\n",
      "[0] 0\n",
      "11 10 Accuracy :  90.9090909090909 %\n",
      "[2] 2\n",
      "12 11 Accuracy :  91.66666666666667 %\n",
      "[0] 0\n",
      "13 12 Accuracy :  92.3076923076923 %\n",
      "[2] 2\n",
      "14 13 Accuracy :  92.85714285714286 %\n",
      "[2] 2\n",
      "15 14 Accuracy :  93.33333333333333 %\n",
      "[1] 1\n",
      "16 15 Accuracy :  93.75 %\n",
      "[0] 0\n",
      "17 15 Accuracy :  88.23529411764706 %\n",
      "[2] 0\n",
      "18 15 Accuracy :  83.33333333333333 %\n",
      "[0] 1\n",
      "19 16 Accuracy :  84.21052631578948 %\n",
      "[2] 2\n",
      "20 17 Accuracy :  85.0 %\n",
      "[0] 0\n",
      "21 17 Accuracy :  80.95238095238095 %\n",
      "[1] 0\n",
      "22 18 Accuracy :  81.81818181818181 %\n",
      "[0] 0\n",
      "23 19 Accuracy :  82.6086956521739 %\n",
      "[2] 2\n",
      "24 20 Accuracy :  83.33333333333333 %\n",
      "[1] 1\n",
      "25 21 Accuracy :  84.0 %\n",
      "[2] 2\n",
      "26 22 Accuracy :  84.61538461538461 %\n",
      "[0] 0\n",
      "27 23 Accuracy :  85.18518518518519 %\n",
      "[0] 0\n",
      "28 24 Accuracy :  85.71428571428571 %\n",
      "[2] 2\n",
      "29 25 Accuracy :  86.20689655172414 %\n",
      "[2] 2\n",
      "30 26 Accuracy :  86.66666666666667 %\n",
      "[1] 1\n",
      "31 26 Accuracy :  83.87096774193549 %\n",
      "[2] 0\n",
      "32 26 Accuracy :  81.25 %\n",
      "[0] 2\n",
      "33 27 Accuracy :  81.81818181818181 %\n",
      "[1] 1\n",
      "34 28 Accuracy :  82.3529411764706 %\n",
      "[0] 0\n",
      "35 29 Accuracy :  82.85714285714286 %\n",
      "[2] 2\n",
      "36 30 Accuracy :  83.33333333333333 %\n",
      "[1] 1\n",
      "37 31 Accuracy :  83.78378378378379 %\n",
      "[2] 2\n",
      "38 32 Accuracy :  84.21052631578948 %\n",
      "[2] 2\n",
      "39 33 Accuracy :  84.61538461538461 %\n",
      "[0] 0\n",
      "40 34 Accuracy :  85.0 %\n",
      "[2] 2\n",
      "41 35 Accuracy :  85.36585365853658 %\n",
      "[0] 0\n",
      "42 35 Accuracy :  83.33333333333333 %\n",
      "[0] 2\n",
      "43 36 Accuracy :  83.72093023255815 %\n",
      "[0] 0\n",
      "44 37 Accuracy :  84.0909090909091 %\n",
      "[0] 0\n",
      "45 38 Accuracy :  84.44444444444444 %\n",
      "[2] 2\n",
      "46 39 Accuracy :  84.78260869565217 %\n",
      "[0] 0\n",
      "47 40 Accuracy :  85.1063829787234 %\n",
      "[1] 1\n",
      "48 41 Accuracy :  85.41666666666667 %\n",
      "[0] 0\n",
      "49 42 Accuracy :  85.71428571428571 %\n",
      "[1] 1\n",
      "50 43 Accuracy :  86.0 %\n",
      "[2] 2\n",
      "51 44 Accuracy :  86.27450980392157 %\n",
      "[0] 0\n",
      "52 45 Accuracy :  86.53846153846153 %\n",
      "[0] 0\n",
      "53 46 Accuracy :  86.79245283018868 %\n",
      "[0] 0\n",
      "54 47 Accuracy :  87.03703703703704 %\n",
      "[0] 0\n",
      "55 48 Accuracy :  87.27272727272727 %\n",
      "[1] 1\n",
      "56 49 Accuracy :  87.5 %\n",
      "[2] 2\n",
      "57 50 Accuracy :  87.71929824561404 %\n",
      "[1] 1\n",
      "58 50 Accuracy :  86.20689655172414 %\n",
      "[2] 1\n",
      "59 51 Accuracy :  86.44067796610169 %\n",
      "[0] 0\n",
      "60 52 Accuracy :  86.66666666666667 %\n",
      "[0] 0\n",
      "61 52 Accuracy :  85.24590163934427 %\n",
      "[0] 2\n",
      "62 53 Accuracy :  85.48387096774194 %\n",
      "[1] 1\n",
      "63 54 Accuracy :  85.71428571428571 %\n",
      "[1] 1\n",
      "64 55 Accuracy :  85.9375 %\n",
      "[1] 1\n",
      "65 56 Accuracy :  86.15384615384616 %\n",
      "[2] 2\n",
      "66 57 Accuracy :  86.36363636363636 %\n",
      "[0] 0\n",
      "67 57 Accuracy :  85.07462686567165 %\n",
      "[2] 0\n",
      "68 58 Accuracy :  85.29411764705883 %\n",
      "[1] 1\n",
      "69 59 Accuracy :  85.5072463768116 %\n",
      "[0] 0\n",
      "70 60 Accuracy :  85.71428571428571 %\n",
      "[0] 0\n",
      "71 61 Accuracy :  85.91549295774648 %\n",
      "[1] 1\n",
      "72 62 Accuracy :  86.11111111111111 %\n",
      "[1] 1\n",
      "73 63 Accuracy :  86.3013698630137 %\n",
      "[2] 2\n",
      "74 63 Accuracy :  85.13513513513513 %\n",
      "[0] 1\n",
      "75 63 Accuracy :  84.0 %\n",
      "[1] 0\n",
      "76 64 Accuracy :  84.21052631578948 %\n",
      "[1] 1\n",
      "77 65 Accuracy :  84.41558441558442 %\n",
      "[0] 0\n",
      "78 65 Accuracy :  83.33333333333333 %\n",
      "[2] 1\n",
      "79 66 Accuracy :  83.54430379746836 %\n",
      "[0] 0\n",
      "80 67 Accuracy :  83.75 %\n",
      "[0] 0\n",
      "81 67 Accuracy :  82.71604938271605 %\n",
      "[2] 1\n",
      "82 68 Accuracy :  82.92682926829268 %\n",
      "[0] 0\n",
      "83 69 Accuracy :  83.13253012048193 %\n",
      "[2] 2\n",
      "84 70 Accuracy :  83.33333333333333 %\n",
      "[0] 0\n",
      "85 71 Accuracy :  83.52941176470588 %\n",
      "[1] 1\n",
      "86 72 Accuracy :  83.72093023255815 %\n",
      "[1] 1\n",
      "87 73 Accuracy :  83.9080459770115 %\n",
      "[2] 2\n",
      "88 73 Accuracy :  82.95454545454545 %\n",
      "[1] 2\n",
      "89 74 Accuracy :  83.14606741573034 %\n",
      "[0] 0\n",
      "90 75 Accuracy :  83.33333333333333 %\n",
      "[1] 1\n",
      "91 76 Accuracy :  83.51648351648352 %\n",
      "[0] 0\n",
      "92 77 Accuracy :  83.69565217391305 %\n",
      "[0] 0\n",
      "93 77 Accuracy :  82.79569892473118 %\n",
      "[1] 0\n",
      "94 78 Accuracy :  82.97872340425532 %\n",
      "[1] 1\n",
      "95 79 Accuracy :  83.15789473684211 %\n",
      "[0] 0\n",
      "96 80 Accuracy :  83.33333333333333 %\n",
      "[0] 0\n",
      "97 80 Accuracy :  82.47422680412372 %\n",
      "[0] 1\n",
      "98 81 Accuracy :  82.65306122448979 %\n",
      "[2] 2\n",
      "99 82 Accuracy :  82.82828282828282 %\n",
      "[2] 2\n",
      "100 83 Accuracy :  83.0 %\n",
      "[2] 2\n"
     ]
    }
   ],
   "source": [
    "acc = 0\n",
    "total = 0\n",
    "for itr in range(100):\n",
    "    keys = np.random.randint(len(freq), size=3)\n",
    "    train = []\n",
    "    test = []\n",
    "    for k in keys:\n",
    "        forms = formWriter[freq[k]]\n",
    "        forms = [freq[k]+'-'+'{:03d}'.format(s)+'.jpg' for s in range(len(forms))]\n",
    "#         print(forms)\n",
    "        idxes = np.random.randint(len(forms), size=3)\n",
    "        \n",
    "        train.append(forms[idxes[0]])\n",
    "        train.append(forms[idxes[1]])\n",
    "        test.append(forms[idxes[2]])\n",
    "    testWriter = np.random.randint(len(test))\n",
    "    testImg = test[testWriter]\n",
    "    \n",
    "    trainFeatures = []\n",
    "    Y = []\n",
    "    for i in range(len(train)):\n",
    "        img = cv2.imread('train/'+train[i], cv2.IMREAD_GRAYSCALE)\n",
    "        if img is None:\n",
    "            continue\n",
    "        f = Feature_Extractor(img)\n",
    "        trainFeatures.append(f)\n",
    "        Y.append(i//2)\n",
    "    gnb = SVC()\n",
    "    gnb.fit(trainFeatures, Y)\n",
    "    \n",
    "    img = cv2.imread(\"train/\"+testImg, cv2.IMREAD_GRAYSCALE)\n",
    "    testFeatures = Feature_Extractor(img)                     \n",
    "    result = gnb.predict([testFeatures])\n",
    "    if result[0] == testWriter:\n",
    "        acc += 1\n",
    "    total +=1\n",
    "    print(total,acc, \"Accuracy : \",acc*100/total,\"%\")\n",
    "    print(result, testWriter)"
   ]
  },
  {
   "cell_type": "code",
   "execution_count": 24,
   "metadata": {},
   "outputs": [
    {
     "data": {
      "text/plain": [
       "79"
      ]
     },
     "execution_count": 24,
     "metadata": {},
     "output_type": "execute_result"
    }
   ],
   "source": [
    "acc"
   ]
  },
  {
   "cell_type": "code",
   "execution_count": 10,
   "metadata": {},
   "outputs": [
    {
     "data": {
      "text/plain": [
       "32"
      ]
     },
     "execution_count": 10,
     "metadata": {},
     "output_type": "execute_result"
    }
   ],
   "source": [
    "itr"
   ]
  },
  {
   "cell_type": "code",
   "execution_count": null,
   "metadata": {},
   "outputs": [],
   "source": []
  }
 ],
 "metadata": {
  "kernelspec": {
   "display_name": "Python 3",
   "language": "python",
   "name": "python3"
  },
  "language_info": {
   "codemirror_mode": {
    "name": "ipython",
    "version": 3
   },
   "file_extension": ".py",
   "mimetype": "text/x-python",
   "name": "python",
   "nbconvert_exporter": "python",
   "pygments_lexer": "ipython3",
   "version": "3.7.9"
  }
 },
 "nbformat": 4,
 "nbformat_minor": 4
}
