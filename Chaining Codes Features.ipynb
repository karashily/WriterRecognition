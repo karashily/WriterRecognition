{
 "cells": [
  {
   "cell_type": "code",
   "execution_count": 9,
   "metadata": {},
   "outputs": [],
   "source": [
    "import skimage.io as io\n",
    "import numpy as np\n",
    "from skimage.filters import threshold_otsu \n",
    "from skimage.color import rgb2grey\n",
    "from skimage.measure import find_contours\n",
    "import cv2\n",
    "from windows import getWindows"
   ]
  },
  {
   "cell_type": "code",
   "execution_count": 10,
   "metadata": {},
   "outputs": [],
   "source": [
    "def First_difference(chain_code):\n",
    "    #chain =chain_code[-1] +chain_code\n",
    "    chain = chain_code\n",
    "    chain = list(chain)\n",
    "    chain_shifted = chain[1:]\n",
    "    chain = chain[:-1]\n",
    "    chain = np.array(chain).astype(np.int)\n",
    "    chain_shifted = np.array(chain_shifted).astype(np.int)\n",
    "    first_diff = -1*(chain - chain_shifted)%8\n",
    "    first_diff = first_diff.astype(np.str)\n",
    "    return \"\".join(first_diff)\n",
    "    "
   ]
  },
  {
   "cell_type": "code",
   "execution_count": 11,
   "metadata": {},
   "outputs": [],
   "source": [
    "def Chain_Codes_Counting(contours,pairs_triplets=True):\n",
    "    global_chaining_code = \"\"\n",
    "    first_difference = \"\"\n",
    "    second_difference = \"\"\n",
    "    if(pairs_triplets):\n",
    "        F4 = np.zeros(64)\n",
    "        F5 = np.zeros(512)\n",
    "    \n",
    "    for j in range(len(contours)):\n",
    "        c = contours[j]\n",
    "        local_chaining_code = \"\"\n",
    "        for i in range(1,len(c)):\n",
    "            diff = (c[i]-c[i-1])[0]\n",
    "            if(diff[0]==1 and diff[1]==0):\n",
    "                local_chaining_code +=\"0\"\n",
    "            elif(diff[0]==1 and diff[1]==-1):\n",
    "                local_chaining_code+=\"1\"\n",
    "            elif(diff[0]==0 and diff[1]==-1):\n",
    "                local_chaining_code +=\"2\"\n",
    "            elif(diff[0]==-1 and diff[1]==-1):\n",
    "                local_chaining_code+=\"3\"\n",
    "            elif(diff[0]==-1 and diff[1]==0):\n",
    "                local_chaining_code+=\"4\"\n",
    "            elif(diff[0]==-1 and diff[1]==1):\n",
    "                local_chaining_code +=\"5\"\n",
    "            elif(diff[0]==0 and diff[1]==1):\n",
    "                local_chaining_code+=\"6\"\n",
    "            elif(diff[0]==1 and diff[1]==1):\n",
    "                local_chaining_code+=\"7\"\n",
    "            else:\n",
    "                print(\"ERROR\")\n",
    "\n",
    "        if(len(local_chaining_code)>0):\n",
    "            first_diff = First_difference(local_chaining_code)\n",
    "            first_difference += first_diff    \n",
    "            second_difference += First_difference(first_diff)\n",
    "        global_chaining_code+=local_chaining_code\n",
    "        for  i in range(8):\n",
    "            for j in range(8):\n",
    "                check = str(i)+str(j)\n",
    "                F4[i*8+j] += local_chaining_code.count(check)\n",
    "                for k in range(8):\n",
    "                    check = str(i)+str(j)+str(k)\n",
    "                    F5[i*64+j*8+k] += local_chaining_code.count(check)\n",
    "    F1  = []\n",
    "    F2  = []\n",
    "    F3  = []\n",
    "    for i in range(8):\n",
    "        F1.append(global_chaining_code.count(str(i)))\n",
    "        if i!=5:\n",
    "            F2.append(first_difference.count(str(i)))\n",
    "\n",
    "        F3.append(second_difference.count(str(i)))\n",
    "\n",
    "    F1 = np.array(F1)\n",
    "    F2 = np.array(F2)\n",
    "    F3 = np.array(F3)\n",
    "    F1 = F1/F1.sum()\n",
    "    F2 = F2/F2.sum()\n",
    "    F3 = F3/F3.sum()\n",
    "    if pairs_triplets:\n",
    "        F4 = F4/F4.sum()\n",
    "        F5 = F5/F5.sum()\n",
    "        return F1,F2,F3,F4,F5\n",
    "    return F1,F2,F3"
   ]
  },
  {
   "cell_type": "code",
   "execution_count": 14,
   "metadata": {},
   "outputs": [],
   "source": [
    "def Chain_Codes_Feature_Extractor(image_name):\n",
    "    img = io.imread(image_name)\n",
    "    windows = getWindows(img,13)\n",
    "    print(windows.shape)\n",
    "    edged = cv2.Canny(img, 30, 200)\n",
    "    contours, hierarchy = cv2.findContours(edged,  cv2.RETR_EXTERNAL, cv2.CHAIN_APPROX_NONE) \n",
    "    \n",
    "    #img = np.ones(img.shape)*255\n",
    "    #cv2.drawContours(img, contours, -1, (30, 255, 30), 1) \n",
    "    \n",
    "    F1,F2,F3,F4,F5 = Chain_Codes_Counting(contours,True)\n",
    "    \n",
    "    \n",
    "    \n",
    "    return F1,F2,F3,F4,F5\n",
    "    \n",
    "    \n",
    "\n",
    "\n",
    "\n",
    "\n",
    "   \n",
    "\n",
    "    \n",
    "    "
   ]
  },
  {
   "cell_type": "code",
   "execution_count": 15,
   "metadata": {},
   "outputs": [
    {
     "name": "stdout",
     "output_type": "stream",
     "text": [
      "(4844, 13, 13)\n"
     ]
    }
   ],
   "source": [
    "F1,F2,F3,F4,F5 = Chain_Codes_Feature_Extractor('TestCases/0.png')"
   ]
  },
  {
   "cell_type": "code",
   "execution_count": null,
   "metadata": {},
   "outputs": [],
   "source": []
  },
  {
   "cell_type": "code",
   "execution_count": null,
   "metadata": {},
   "outputs": [],
   "source": []
  },
  {
   "cell_type": "code",
   "execution_count": null,
   "metadata": {},
   "outputs": [],
   "source": []
  },
  {
   "cell_type": "code",
   "execution_count": null,
   "metadata": {},
   "outputs": [],
   "source": []
  },
  {
   "cell_type": "code",
   "execution_count": null,
   "metadata": {},
   "outputs": [],
   "source": []
  },
  {
   "cell_type": "code",
   "execution_count": null,
   "metadata": {},
   "outputs": [],
   "source": []
  },
  {
   "cell_type": "code",
   "execution_count": null,
   "metadata": {},
   "outputs": [],
   "source": []
  },
  {
   "cell_type": "code",
   "execution_count": null,
   "metadata": {},
   "outputs": [],
   "source": []
  },
  {
   "cell_type": "code",
   "execution_count": null,
   "metadata": {},
   "outputs": [],
   "source": []
  },
  {
   "cell_type": "code",
   "execution_count": null,
   "metadata": {},
   "outputs": [],
   "source": []
  },
  {
   "cell_type": "code",
   "execution_count": null,
   "metadata": {},
   "outputs": [],
   "source": []
  },
  {
   "cell_type": "code",
   "execution_count": null,
   "metadata": {},
   "outputs": [],
   "source": []
  },
  {
   "cell_type": "code",
   "execution_count": null,
   "metadata": {},
   "outputs": [],
   "source": []
  },
  {
   "cell_type": "code",
   "execution_count": null,
   "metadata": {},
   "outputs": [],
   "source": []
  },
  {
   "cell_type": "code",
   "execution_count": null,
   "metadata": {},
   "outputs": [],
   "source": []
  }
 ],
 "metadata": {
  "kernelspec": {
   "display_name": "Python 3",
   "language": "python",
   "name": "python3"
  },
  "language_info": {
   "codemirror_mode": {
    "name": "ipython",
    "version": 3
   },
   "file_extension": ".py",
   "mimetype": "text/x-python",
   "name": "python",
   "nbconvert_exporter": "python",
   "pygments_lexer": "ipython3",
   "version": "3.7.6"
  }
 },
 "nbformat": 4,
 "nbformat_minor": 4
}
